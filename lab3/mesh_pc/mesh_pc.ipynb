{
 "cells": [
  {
   "cell_type": "code",
   "execution_count": 1,
   "metadata": {},
   "outputs": [],
   "source": [
    "import numpy as np\n",
    "import trimesh\n",
    "import tqdm "
   ]
  },
  {
   "cell_type": "code",
   "execution_count": 2,
   "metadata": {},
   "outputs": [],
   "source": [
    "def uniform_sampling_from_mesh(vertices, faces, sample_num):\n",
    "    # -------- TODO -----------\n",
    "    # 1. compute area of each triangles\n",
    "    # 2. compute probability of each triangles from areas\n",
    "    # 3. sample N faces according to the probability\n",
    "    # 4. for each face, sample 1 point\n",
    "    # Note that FOR-LOOP is not allowed!\n",
    "    # -------- TODO -----------\n",
    "    # 1. compute area of each triangles\n",
    "    area = np.zeros(faces.shape[0])\n",
    "    v0 = vertices[faces[:, 0]]\n",
    "    v1 = vertices[faces[:, 1]]\n",
    "    v2 = vertices[faces[:, 2]]\n",
    "    cross = np.cross(v1 - v0, v2 - v0)\n",
    "    area = np.linalg.norm(cross, axis=1) / 2\n",
    "    prob = area / np.sum(area)\n",
    "    sampled_face_indices = np.random.choice(\n",
    "        len(faces), \n",
    "        size=sample_num,\n",
    "        p=prob,\n",
    "        replace=True\n",
    "    )\n",
    "    u = np.random.rand(sample_num)\n",
    "    v = np.random.rand(sample_num)\n",
    "    mask = u + v > 1  # 处理超出三角形区域的情况\n",
    "    u[mask] = 1 - u[mask]\n",
    "    v[mask] = 1 - v[mask]\n",
    "    w = 1 - u - v  # 第三个重心坐标\n",
    "    \n",
    "    # 获取对应面片的顶点（向量化操作）\n",
    "    sampled_v0 = vertices[faces[sampled_face_indices, 0]]\n",
    "    sampled_v1 = vertices[faces[sampled_face_indices, 1]]\n",
    "    sampled_v2 = vertices[faces[sampled_face_indices, 2]]\n",
    "    uniform_pc = (w[:, None] * sampled_v0 +\n",
    "        u[:, None] * sampled_v1 +\n",
    "        v[:, None] * sampled_v2)\n",
    "    return area, prob, uniform_pc\n",
    "        "
   ]
  },
  {
   "cell_type": "code",
   "execution_count": 3,
   "metadata": {},
   "outputs": [],
   "source": [
    "def farthest_point_sampling(pc, sample_num):\n",
    "    # -------- TODO -----------\n",
    "    # FOR LOOP is allowed here.\n",
    "    # -------- TODO -----------\n",
    "    results = np.zeros((sample_num, pc.shape[1]))\n",
    "    results[0] = pc[np.random.choice(pc.shape[0])]\n",
    "    distances = np.full(pc.shape[0], np.inf)\n",
    "    for i in range(1, sample_num):\n",
    "        for j in range(pc.shape[0]):\n",
    "            dist = np.linalg.norm(pc[j] - results[:i], axis=1)\n",
    "            distances[j] = np.min(dist)\n",
    "        idx = np.argmax(distances)\n",
    "        results[i] = pc[idx]\n",
    "\n",
    "    return results"
   ]
  },
  {
   "cell_type": "code",
   "execution_count": 4,
   "metadata": {},
   "outputs": [
    {
     "name": "stdout",
     "output_type": "stream",
     "text": [
      "faces shape:  (13712, 3)\n",
      "area shape:  (13712,)\n",
      "prob shape:  (13712,)\n",
      "pc shape:  (512, 3)\n"
     ]
    }
   ],
   "source": [
    "# task 1: uniform sampling \n",
    "\n",
    "obj_path = 'spot.obj'\n",
    "mesh = trimesh.load(obj_path)\n",
    "print('faces shape: ', mesh.faces.shape)\n",
    "sample_num = 512\n",
    "area, prob, uniform_pc = uniform_sampling_from_mesh(mesh.vertices, mesh.faces, sample_num)\n",
    "\n",
    "# Visualization. For you to check your code\n",
    "np.savetxt('uniform_sampling_vis.txt', uniform_pc)\n",
    "\n",
    "print('area shape: ',area.shape)\n",
    "print('prob shape: ',prob.shape)\n",
    "print('pc shape: ',uniform_pc.shape)\n",
    "# the result should satisfy: \n",
    "#       area.shape = (13712, ) \n",
    "#       prob.shape = (13712, ) \n",
    "#       uniform_pc.shape = (512, 3) \n",
    "\n",
    "# For submission\n",
    "save_dict = {'area': area, 'prob': prob, 'pc': uniform_pc}\n",
    "np.save('../results/uniform_sampling_results', save_dict)"
   ]
  },
  {
   "cell_type": "code",
   "execution_count": 5,
   "metadata": {},
   "outputs": [],
   "source": [
    "# task 2: FPS\n",
    "\n",
    "init_sample_num = 2000\n",
    "final_sample_num = 512\n",
    "_,_, tmp_pc = uniform_sampling_from_mesh(mesh.vertices, mesh.faces, init_sample_num)\n",
    "fps_pc = farthest_point_sampling(tmp_pc, final_sample_num)\n",
    "\n",
    "# Visualization. For you to check your code\n",
    "np.savetxt('fps_vis.txt', fps_pc)\n",
    "\n",
    "# For submission\n",
    "np.save('../results/fps_results', fps_pc)"
   ]
  },
  {
   "cell_type": "code",
   "execution_count": 6,
   "metadata": {},
   "outputs": [
    {
     "name": "stderr",
     "output_type": "stream",
     "text": [
      "100%|██████████| 5/5 [01:28<00:00, 17.60s/it]"
     ]
    },
    {
     "name": "stdout",
     "output_type": "stream",
     "text": [
      "CD mean:  2.7515918902005643\n",
      "CD var:  0.0016560575957754043\n",
      "EMD mean:  2.2914055266194904\n",
      "EMD var:  0.010672555877896034\n"
     ]
    },
    {
     "name": "stderr",
     "output_type": "stream",
     "text": [
      "\n"
     ]
    }
   ],
   "source": [
    "# task 3: metrics\n",
    "\n",
    "from earthmover.earthmover import earthmover_distance   # EMD may be very slow (1~2mins)\n",
    "# -----------TODO---------------\n",
    "# compute chamfer distance and EMD for two point clouds sampled by uniform sampling and FPS.\n",
    "# sample and compute CD and EMD again. repeat for five times.\n",
    "# save the mean and var.\n",
    "# -----------TODO---------------\n",
    "\n",
    "CD_mean = 0\n",
    "CD_var = 0\n",
    "EMD_mean = 0\n",
    "EMD_var = 0\n",
    "CD = []\n",
    "EMD = []\n",
    "\n",
    "for i in tqdm.tqdm(range(5)):\n",
    "    # uniform sampling\n",
    "    _,_, uniform_pc = uniform_sampling_from_mesh(mesh.vertices, mesh.faces, final_sample_num)\n",
    "    \n",
    "    # FPS\n",
    "    _,_, tmp_pc = uniform_sampling_from_mesh(mesh.vertices, mesh.faces, init_sample_num)\n",
    "    fps_pc = farthest_point_sampling(tmp_pc, final_sample_num)\n",
    "\n",
    "    # compute metrics\n",
    "    cd = np.mean(np.min(np.linalg.norm(uniform_pc[:, None] - fps_pc[None], axis=2), axis=1)) + \\\n",
    "         np.mean(np.min(np.linalg.norm(fps_pc[:, None] - uniform_pc[None], axis=2), axis=1))\n",
    "    CD.append(cd)\n",
    "    emd = earthmover_distance(uniform_pc, [tuple(point) for point in fps_pc])\n",
    "    EMD.append(emd)\n",
    "\n",
    "CD_mean = np.mean(CD)\n",
    "CD_var = np.var(CD)\n",
    "EMD_mean = np.mean(EMD)\n",
    "EMD_var = np.var(EMD)\n",
    "\n",
    "print('CD mean: ', CD_mean)\n",
    "print('CD var: ', CD_var)\n",
    "print('EMD mean: ', EMD_mean)\n",
    "print('EMD var: ', EMD_var)\n",
    "# Visualization. For you to check your code\n",
    "# For submission\n",
    "np.save('../results/metrics', {'CD_mean':CD_mean, 'CD_var':CD_var, 'EMD_mean':EMD_mean, 'EMD_var':EMD_var})"
   ]
  }
 ],
 "metadata": {
  "kernelspec": {
   "display_name": "lab3",
   "language": "python",
   "name": "python3"
  },
  "language_info": {
   "codemirror_mode": {
    "name": "ipython",
    "version": 3
   },
   "file_extension": ".py",
   "mimetype": "text/x-python",
   "name": "python",
   "nbconvert_exporter": "python",
   "pygments_lexer": "ipython3",
   "version": "3.10.17"
  },
  "orig_nbformat": 4
 },
 "nbformat": 4,
 "nbformat_minor": 2
}
