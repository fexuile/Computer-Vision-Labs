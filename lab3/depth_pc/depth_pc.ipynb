{
 "cells": [
  {
   "cell_type": "code",
   "execution_count": 10,
   "metadata": {},
   "outputs": [],
   "source": [
    "import numpy as np\n",
    "import cv2"
   ]
  },
  {
   "cell_type": "code",
   "execution_count": 11,
   "metadata": {},
   "outputs": [
    {
     "name": "stdout",
     "output_type": "stream",
     "text": [
      "[[415.69219382   0.         320.        ]\n",
      " [  0.         415.69219382 240.        ]\n",
      " [  0.           0.           1.        ]]\n"
     ]
    }
   ],
   "source": [
    "# read depth image\n",
    "depth_scale = 0.00012498664727900177\n",
    "depth_img = cv2.imread('depth.png').astype(np.float32)\n",
    "dpt = depth_img[:, :, 2] + depth_img[:, :, 1] * 256\n",
    "dpt = dpt * depth_scale\n",
    "\n",
    "# read seg image\n",
    "seg = cv2.imread('seg.png')[...,0]  # 255: fore ground, 0: background\n",
    "\n",
    "# read intrinsics and extrinsics\n",
    "K = np.load('intrinsic.npy')\n",
    "print(K)"
   ]
  },
  {
   "cell_type": "code",
   "execution_count": 12,
   "metadata": {},
   "outputs": [],
   "source": [
    "# task1: convert depth image to point cloud\n",
    "def depth2pc(depth, seg, K):\n",
    "    # ------------TODO---------------\n",
    "    # compute point cloud from depth image\n",
    "    # for-loop is not allowed!!\n",
    "    # ------------TODO --------------\n",
    "    alpha, beta = K[0, 0], K[1, 1]\n",
    "    cx, cy = K[0, 2], K[1, 2]\n",
    "    h, w = depth.shape\n",
    "    u, v = np.meshgrid(np.arange(w), np.arange(h))\n",
    "    u = u.astype(np.float32)\n",
    "    v = v.astype(np.float32)\n",
    "    z = depth\n",
    "    x = (u - cx) * z / alpha\n",
    "    y = (v - cy) * z / beta\n",
    "    points = np.stack((x, y, z), axis=-1)\n",
    "    pc = points[seg.astype(bool)]\n",
    "    return pc\n",
    "\n",
    "partial_pc = depth2pc(dpt, seg, K)\n",
    "\n",
    "# For debug and submission\n",
    "np.savetxt('../results/pc_from_depth.txt', partial_pc)"
   ]
  },
  {
   "cell_type": "code",
   "execution_count": 26,
   "metadata": {},
   "outputs": [
    {
     "name": "stdout",
     "output_type": "stream",
     "text": [
      "one way chamfer distance:  0.009630624100727467\n"
     ]
    }
   ],
   "source": [
    "# task2: compute one-way chamfer distance to the complete shape\n",
    "full_pc = np.loadtxt('aligned_full_pc.txt')\n",
    "\n",
    "def random_sample(pc, num):\n",
    "    permu = np.random.permutation(pc.shape[0])\n",
    "    return pc[permu][:num]\n",
    "\n",
    "partial_pc_sampled = random_sample(partial_pc, 2048)\n",
    "full_pc_sampled = random_sample(full_pc, 2048)\n",
    "\n",
    "# -----------TODO---------------\n",
    "# implement one way chamfer distance\n",
    "# -----------TODO---------------\n",
    "dists = np.linalg.norm(partial_pc_sampled[:, np.newaxis] - full_pc_sampled, axis=-1)\n",
    "min_dists = np.min(dists, axis=1)\n",
    "one_way_CD = np.mean(min_dists)\n",
    "print('one way chamfer distance: ', one_way_CD)\n",
    "\n",
    "# For submission\n",
    "one_way_CD = np.array([one_way_CD])\n",
    "np.savetxt('../results/one_way_CD.txt', one_way_CD)\n",
    "# Answer: 0.009976257336995639"
   ]
  }
 ],
 "metadata": {
  "kernelspec": {
   "display_name": "cvlab3",
   "language": "python",
   "name": "python3"
  },
  "language_info": {
   "codemirror_mode": {
    "name": "ipython",
    "version": 3
   },
   "file_extension": ".py",
   "mimetype": "text/x-python",
   "name": "python",
   "nbconvert_exporter": "python",
   "pygments_lexer": "ipython3",
   "version": "3.8.20"
  },
  "orig_nbformat": 4
 },
 "nbformat": 4,
 "nbformat_minor": 2
}
