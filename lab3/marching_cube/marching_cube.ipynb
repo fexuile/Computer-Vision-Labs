{
 "cells": [
  {
   "cell_type": "code",
   "execution_count": 1,
   "metadata": {},
   "outputs": [],
   "source": [
    "import numpy as np\n",
    "from lookup_table import CaseNum2EdgeOffset, getCaseNum\n",
    "import trimesh\n",
    "import os\n",
    "import time"
   ]
  },
  {
   "cell_type": "code",
   "execution_count": 3,
   "metadata": {},
   "outputs": [],
   "source": [
    "def marching_cube(thres,cells):\n",
    "    # vertices use dictionary to avoid duplicate axes\n",
    "    vertex_array = {}\n",
    "    face_array = []\n",
    "    t1 = time.time()\n",
    "    # -------------------TODO------------------ \n",
    "    # compute vertices and faces\n",
    "    # vertices: [N, 3]\n",
    "    # faces: [M, 3], e.g. np.array([[0,1,2]]) means a triangle composed of vertices[0], vertices[1] and vertices[2]\n",
    "    # for-loop is allowed to reduce difficulty\n",
    "    # -------------------TODO------------------ \n",
    "    for z in range(cells.shape[2]-1):\n",
    "        for y in range(cells.shape[1]-1):\n",
    "            for x in range(cells.shape[0]-1):\n",
    "                case_nums = getCaseNum(x, y, z, thres, cells)\n",
    "                triangle = []\n",
    "                for case_num in case_nums:\n",
    "                    if case_num == -1: \n",
    "                        continue\n",
    "                    edge = CaseNum2EdgeOffset[case_num]\n",
    "                    p1 = (x + edge[0], y + edge[1], z + edge[2])\n",
    "                    p2 = (x + edge[3], y + edge[4], z + edge[5])\n",
    "\n",
    "                    v1 = cells[p1]\n",
    "                    v2 = cells[p2]\n",
    "                    t = (thres - v1) / (v2 - v1) if v2 != v1 else 0.5\n",
    "                    \n",
    "                    interp_point = (\n",
    "                        p1[0] + t*(p2[0]-p1[0]),\n",
    "                        p1[1] + t*(p2[1]-p1[1]),\n",
    "                        p1[2] + t*(p2[2]-p1[2])\n",
    "                    )\n",
    "                    if interp_point not in vertex_array:\n",
    "                        vertex_array[interp_point] = len(vertex_array)\n",
    "                    \n",
    "                    triangle.append(vertex_array[interp_point])\n",
    "                for i in range(0, len(triangle)-2, 3):\n",
    "                    face_array.append([triangle[i], triangle[i+1], triangle[i+2]])\n",
    "\n",
    "    t2 = time.time()\n",
    "    print(\"\\nTime taken by algorithm\\n\"+'-'*40+\"\\n{} s\".format(t2-t1))\n",
    "    vertex_array = list(vertex_array.keys())\n",
    "    return np.array(vertex_array), np.array(face_array, dtype=np.int64)"
   ]
  },
  {
   "cell_type": "code",
   "execution_count": 4,
   "metadata": {},
   "outputs": [
    {
     "name": "stdout",
     "output_type": "stream",
     "text": [
      "\n",
      "Time taken by algorithm\n",
      "----------------------------------------\n",
      "3.3300585746765137 s\n",
      "\n",
      "Time taken by algorithm\n",
      "----------------------------------------\n",
      "3.3578052520751953 s\n"
     ]
    }
   ],
   "source": [
    "# reconstruct these two animals\n",
    "shape_name_lst = ['spot', 'bob']\n",
    "for shape_name in shape_name_lst:\n",
    "    data = np.load(os.path.join('data', shape_name + '_cell.npy'))\n",
    "    verts, faces = marching_cube(0, data)\n",
    "    mesh = trimesh.Trimesh(vertices=verts, faces=faces)\n",
    "    mesh_txt = trimesh.exchange.obj.export_obj(mesh)\n",
    "    with open(os.path.join('../results', shape_name + '.obj'),\"w\") as fp:\n",
    "        fp.write(mesh_txt)"
   ]
  }
 ],
 "metadata": {
  "kernelspec": {
   "display_name": "cvlab3",
   "language": "python",
   "name": "python3"
  },
  "language_info": {
   "codemirror_mode": {
    "name": "ipython",
    "version": 3
   },
   "file_extension": ".py",
   "mimetype": "text/x-python",
   "name": "python",
   "nbconvert_exporter": "python",
   "pygments_lexer": "ipython3",
   "version": "3.8.20"
  },
  "orig_nbformat": 4
 },
 "nbformat": 4,
 "nbformat_minor": 2
}
